{
 "cells": [
  {
   "cell_type": "code",
   "execution_count": null,
   "metadata": {},
   "outputs": [],
   "source": [
    "import pandas as pd\n",
    "import matplotlib.pyplot as plt\n",
    "import math as math\n",
    "import numpy as np"
   ]
  },
  {
   "cell_type": "code",
   "execution_count": null,
   "metadata": {
    "scrolled": false
   },
   "outputs": [],
   "source": [
    "#Getting all columns and rows from the file\n",
    "df = pd.read_csv('redfin_2019-01-18-22-06-22.csv')"
   ]
  },
  {
   "cell_type": "markdown",
   "metadata": {},
   "source": [
    "#### Selecting Parameters that affect the Prices"
   ]
  },
  {
   "cell_type": "code",
   "execution_count": null,
   "metadata": {},
   "outputs": [],
   "source": [
    "df = df[['CITY','PRICE','BEDS','BATHS','SQUARE FEET','ZIP','LOCATION','ADDRESS','PROPERTY TYPE']]"
   ]
  },
  {
   "cell_type": "markdown",
   "metadata": {},
   "source": [
    "#### Removing rows where nan value exists in all columns"
   ]
  },
  {
   "cell_type": "code",
   "execution_count": null,
   "metadata": {},
   "outputs": [],
   "source": [
    "df = df.dropna(how='all')"
   ]
  },
  {
   "cell_type": "markdown",
   "metadata": {},
   "source": [
    "#### Assigning unique numbers to unique location so that it can work as a parameter"
   ]
  },
  {
   "cell_type": "code",
   "execution_count": null,
   "metadata": {
    "scrolled": true
   },
   "outputs": [],
   "source": [
    "df['LOCATION'],y = pd.factorize(df['LOCATION'])\n",
    "df['LOCATION'] += 1\n",
    "\n",
    "df = df.loc[df['CITY'] == 'Bothell']\n",
    "\n",
    "df['CITY'],y = pd.factorize(df['CITY'])\n",
    "df['CITY'] += 1\n",
    "\n",
    "df['ZIP'],y = pd.factorize(df['ZIP'])\n",
    "df['ZIP'] += 1\n",
    "\n",
    "df['ADDRESS'],y = pd.factorize(df['ADDRESS'])\n",
    "df['ADDRESS'] += 1\n",
    "\n",
    "df['PROPERTY TYPE'],y = pd.factorize(df['PROPERTY TYPE'])\n",
    "df['PROPERTY TYPE'] += 1\n",
    "\n",
    "df = df.fillna(df.mean())\n",
    "print (df)"
   ]
  },
  {
   "cell_type": "code",
   "execution_count": null,
   "metadata": {},
   "outputs": [],
   "source": [
    "plt.scatter(df['SQUARE FEET'],df['PRICE'])"
   ]
  },
  {
   "cell_type": "code",
   "execution_count": null,
   "metadata": {
    "scrolled": true
   },
   "outputs": [],
   "source": [
    "plt.scatter(df['BEDS'],df['PRICE'])"
   ]
  },
  {
   "cell_type": "code",
   "execution_count": null,
   "metadata": {},
   "outputs": [],
   "source": [
    "plt.scatter(df['BATHS'],df['PRICE'])"
   ]
  },
  {
   "cell_type": "code",
   "execution_count": null,
   "metadata": {},
   "outputs": [],
   "source": [
    "plt.scatter(df['ZIP'],df['PRICE'])"
   ]
  },
  {
   "cell_type": "code",
   "execution_count": null,
   "metadata": {},
   "outputs": [],
   "source": [
    "plt.scatter(df['LOCATION'],df['PRICE'])"
   ]
  },
  {
   "cell_type": "code",
   "execution_count": null,
   "metadata": {},
   "outputs": [],
   "source": [
    "plt.scatter(df['PROPERTY TYPE'],df['PRICE'])"
   ]
  },
  {
   "cell_type": "code",
   "execution_count": null,
   "metadata": {},
   "outputs": [],
   "source": [
    "plt.scatter(df['ADDRESS'],df['PRICE'])"
   ]
  },
  {
   "cell_type": "code",
   "execution_count": null,
   "metadata": {},
   "outputs": [],
   "source": [
    "\n",
    "#allStats = data.describe()\n",
    "mean = df.mean()\n",
    "median = df.median()\n",
    "standard_deviation = df.std()\n",
    "\n",
    "print (\"Mean of Data\\n\",mean)\n",
    "print (\"\\nMedian of Data\\n\",median)\n",
    "print (\"\\nStandard Deviation of Data\\n\",standard_deviation)"
   ]
  },
  {
   "cell_type": "code",
   "execution_count": null,
   "metadata": {},
   "outputs": [],
   "source": [
    "#60% of unique rows i.e 1 to 60% of total rows\n",
    "training_data = df[:math.floor (len(df) * 0.6)]\n",
    "\n",
    "#20% of unique rows i.e after the above 60% till the 80% \n",
    "validating_data = df[math.floor (len(df) * 0.6) : math.floor (len(df) * 0.8)]\n",
    "\n",
    "#20% of unique rows i.e after the above 80% till the 100%\n",
    "testing_data = df[math.floor (len(df) * 0.8) :]\n",
    "\n",
    "training_data_Y = training_data['PRICE'].values\n",
    "training_data_X = training_data[['CITY','BEDS','BATHS','SQUARE FEET']].values\n",
    "\n",
    "validating_data_Y = validating_data['PRICE'].values\n",
    "validating_data_X = validating_data[['CITY','BEDS','BATHS','SQUARE FEET']].values\n",
    "\n",
    "testing_data_Y = testing_data['PRICE'].values\n",
    "testing_data_X = testing_data[['CITY','BEDS','BATHS','SQUARE FEET']].values\n",
    "\n",
    "\n",
    "\n"
   ]
  },
  {
   "cell_type": "markdown",
   "metadata": {},
   "source": [
    "#### Training data and creating theta function by it"
   ]
  },
  {
   "cell_type": "code",
   "execution_count": null,
   "metadata": {},
   "outputs": [],
   "source": [
    "xT = np.transpose(training_data_X)\n",
    "xTx = np.matmul ( xT, training_data_X )\n",
    "inverse_xTx = np.linalg.inv ( xTx )\n",
    "xTy = np.matmul ( xT, training_data_Y )\n",
    "theta_function =  np.matmul (inverse_xTx, xTy)\n",
    "\n",
    "print (theta_function)"
   ]
  },
  {
   "cell_type": "code",
   "execution_count": null,
   "metadata": {},
   "outputs": [],
   "source": [
    "#Now Validation of Data\n",
    "error_function = ( np.matmul( validating_data_X, theta_function ) - validating_data_Y ) ** 2"
   ]
  },
  {
   "cell_type": "code",
   "execution_count": null,
   "metadata": {
    "scrolled": false
   },
   "outputs": [],
   "source": [
    "mean_square_error = np.sum(error_function)\n",
    "root_mean_square_error = np.sqrt(mean_square_error) / np.size(error_function)\n",
    "print (\"Root Mean Square Error :\",root_mean_square_error)"
   ]
  },
  {
   "cell_type": "code",
   "execution_count": null,
   "metadata": {},
   "outputs": [],
   "source": [
    "predicted_Y = np.matmul ( testing_data_X ,theta_function )"
   ]
  },
  {
   "cell_type": "markdown",
   "metadata": {},
   "source": [
    "###### Graphs showing predicted result along with the actual results  in the Y-axis and parameters used for calculation are in the X-axis"
   ]
  },
  {
   "cell_type": "code",
   "execution_count": null,
   "metadata": {
    "scrolled": false
   },
   "outputs": [],
   "source": [
    "fig, arr = plt.subplots(nrows=3, ncols=2, sharex=False, sharey=True)\n",
    "\n",
    "fig.set_figwidth(16)\n",
    "fig.set_figheight(20)\n",
    "\n",
    "#Beds\n",
    "arr[0][0].scatter (testing_data_X[:,1], predicted_Y, c='r' )\n",
    "arr[0][0].set_title('Predicted Result')\n",
    "arr[0][0].set_xlabel('Beds')\n",
    "arr[0][0].set_ylabel('Price')\n",
    "\n",
    "arr[0][1].scatter (testing_data_X[:,1], testing_data_Y, c='b' )\n",
    "arr[0][1].set_title('Actual Result')\n",
    "arr[0][1].set_xlabel('Beds')\n",
    "arr[0][1].set_ylabel('Price')\n",
    "\n",
    "#Baths\n",
    "arr[1][0].scatter (testing_data_X[:,2], predicted_Y, c='r' )\n",
    "arr[1][0].set_title('Predicted Result')\n",
    "arr[1][0].set_xlabel('Baths')\n",
    "arr[1][0].set_ylabel('Price')\n",
    "\n",
    "arr[1][1].scatter (testing_data_X[:,2], testing_data_Y, c='b' )\n",
    "arr[1][1].set_title('Actual Result')\n",
    "arr[1][1].set_xlabel('Baths')\n",
    "arr[1][1].set_ylabel('Price')\n",
    "\n",
    "#SquareFeet\n",
    "arr[2][0].scatter (testing_data_X[:,3], predicted_Y, c='r' )\n",
    "arr[2][0].set_title('Predicted Result')\n",
    "arr[2][0].set_xlabel('Square Feet')\n",
    "arr[2][0].set_ylabel('Price')\n",
    "\n",
    "arr[2][1].scatter (testing_data_X[:,3], testing_data_Y, c='b' )\n",
    "arr[2][1].set_title('Actual Result')\n",
    "arr[2][1].set_xlabel('Square Feet')\n",
    "arr[2][1].set_ylabel('Price')\n"
   ]
  },
  {
   "cell_type": "code",
   "execution_count": null,
   "metadata": {},
   "outputs": [],
   "source": [
    "#Blue Predicted Result\n",
    "#plt.scatter (testing_data_X[:,4], predicted_Y )\n",
    "#Orange Actual Result\n",
    "#plt.scatter (testing_data_X[:,4], testing_data_Y )"
   ]
  },
  {
   "cell_type": "code",
   "execution_count": null,
   "metadata": {},
   "outputs": [],
   "source": [
    "#Blue Predicted Result\n",
    "#plt.scatter (testing_data_X[:,5], predicted_Y )\n",
    "#Orange Actual Result\n",
    "#plt.scatter (testing_data_X[:,5], testing_data_Y )"
   ]
  },
  {
   "cell_type": "code",
   "execution_count": null,
   "metadata": {
    "scrolled": true
   },
   "outputs": [],
   "source": [
    "fig, arr = plt.subplots(nrows=1, ncols=2, sharex=False, sharey=True)\n",
    "\n",
    "fig.set_figwidth(16)\n",
    "fig.set_figheight(4)\n",
    "\n",
    "arr[0].hist(predicted_Y)\n",
    "arr[0].set_title('Predicted Result')\n",
    "\n",
    "arr[1].hist(testing_data_Y)\n",
    "arr[1].set_title('Actual Result')"
   ]
  },
  {
   "cell_type": "code",
   "execution_count": null,
   "metadata": {},
   "outputs": [],
   "source": [
    "plt.plot(theta_function)"
   ]
  },
  {
   "cell_type": "code",
   "execution_count": null,
   "metadata": {},
   "outputs": [],
   "source": []
  }
 ],
 "metadata": {
  "kernelspec": {
   "display_name": "Python 3",
   "language": "python",
   "name": "python3"
  },
  "language_info": {
   "codemirror_mode": {
    "name": "ipython",
    "version": 3
   },
   "file_extension": ".py",
   "mimetype": "text/x-python",
   "name": "python",
   "nbconvert_exporter": "python",
   "pygments_lexer": "ipython3",
   "version": "3.7.3"
  }
 },
 "nbformat": 4,
 "nbformat_minor": 2
}
