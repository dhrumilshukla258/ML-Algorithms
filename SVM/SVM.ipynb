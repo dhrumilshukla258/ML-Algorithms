{
 "cells": [
  {
   "cell_type": "code",
   "execution_count": null,
   "metadata": {},
   "outputs": [],
   "source": [
    "import numpy as np\n",
    "import matplotlib.pyplot as plt\n",
    "import pandas as pd\n",
    "import math as math\n",
    "from collections import OrderedDict, defaultdict"
   ]
  },
  {
   "cell_type": "code",
   "execution_count": null,
   "metadata": {},
   "outputs": [],
   "source": [
    "data = pd.read_csv(\"iris.csv\")\n",
    "data['species'],y = pd.factorize(data['species'])\n",
    "data['species'] += 1\n",
    "\n",
    "temp = data\n",
    "for index,row in data.iterrows():\n",
    "    if row['species'] == 2:\n",
    "        temp['species'].iloc[index] = -1  \n",
    "data = temp"
   ]
  },
  {
   "cell_type": "code",
   "execution_count": null,
   "metadata": {},
   "outputs": [],
   "source": [
    "data"
   ]
  },
  {
   "cell_type": "code",
   "execution_count": null,
   "metadata": {},
   "outputs": [],
   "source": [
    "setosaData = data[0:49]\n",
    "versicolorData = data[50:100]\n",
    "\n",
    "training_data = setosaData[:math.floor (len(setosaData) * 0.7)] \n",
    "training_data = training_data.append(versicolorData[:math.floor (len(versicolorData) * 0.7)] )\n",
    "\n",
    "testing_data = setosaData[math.floor (len(setosaData) * 0.7) : ] \n",
    "testing_data = testing_data.append(versicolorData[math.floor (len(versicolorData) * 0.7) : ] )"
   ]
  },
  {
   "cell_type": "code",
   "execution_count": null,
   "metadata": {},
   "outputs": [],
   "source": [
    "#Train Data\n",
    "train_Y = training_data['species'].values\n",
    "train_Y = train_Y.reshape((train_Y.shape[0],1))\n",
    "train_X = training_data[['sepal_length','sepal_width','petal_length','petal_width']].values\n",
    "\n",
    "#Test Data\n",
    "test_Y = testing_data['species'].values\n",
    "test_X = testing_data[['sepal_length','sepal_width','petal_length','petal_width']].values\n",
    "\n",
    "train_X = np.asmatrix(train_X)\n",
    "train_Y = np.asmatrix(train_Y)\n",
    "test_X = np.asmatrix(test_X)\n",
    "test_Y = np.asmatrix(test_Y)"
   ]
  },
  {
   "cell_type": "code",
   "execution_count": null,
   "metadata": {},
   "outputs": [],
   "source": [
    "n = np.size(train_X, 0)\n",
    "alp = np.asmatrix(np.random.random_sample((n,1)))\n",
    "m = np.size(train_X, 1)\n",
    "\n",
    "maxiter = 100\n",
    "C = 10\n",
    "eta = 0.001\n",
    "for it in range(maxiter):\n",
    "    i = np.random.randint(0,n)\n",
    "    sm = 0\n",
    "    for j in range(n):\n",
    "        sm += alp[j] * alp[i] * train_Y[j] * train_Y[i] * (train_X[j] * train_X[i].T)\n",
    "    \n",
    "    alp[i] += eta* (1-sm)\n",
    "    alp[i] = max(0,min(alp[i],C))\n",
    "    check = -1\n",
    "    j = i\n",
    "    while (check < 0):\n",
    "        j = np.random.randint(0,n)\n",
    "        if j != i:\n",
    "            smt = 0\n",
    "            for k in range(n):\n",
    "                if k != j:\n",
    "                    smt += alp[k] * train_Y[k]\n",
    "                check = -train_Y[j] * smt\n",
    "            alp[j] = check"
   ]
  },
  {
   "cell_type": "code",
   "execution_count": null,
   "metadata": {},
   "outputs": [],
   "source": [
    "w = np.asmatrix(np.zeros(4))\n",
    "for j in range(n):\n",
    "    w += alp[j] * train_Y[j] * train_X[j]"
   ]
  },
  {
   "cell_type": "code",
   "execution_count": null,
   "metadata": {
    "scrolled": true
   },
   "outputs": [],
   "source": [
    "negsup = 100000000\n",
    "pozsup = 100000000\n",
    "for k in range(n):\n",
    "    if train_Y[k] == 1:\n",
    "        if w * train_X[k].T < negsup:\n",
    "            re = w * train_X[k].T\n",
    "            indneg = k\n",
    "    else:\n",
    "        if w * train_X[k].T < pozsup:\n",
    "            re = w * train_X[k].T\n",
    "            indpoz = k\n",
    "\n",
    "b = -0.5*( w*train_X[indneg].T + w*train_X[indpoz].T )"
   ]
  },
  {
   "cell_type": "code",
   "execution_count": null,
   "metadata": {},
   "outputs": [],
   "source": [
    "def compute(W, b, test_X ):\n",
    "    compute = np.dot(test_X,W.T) + b.T\n",
    "    sign = np.copy(compute)\n",
    "    compute[sign < 0] = -1\n",
    "    compute[sign > 0] = 1\n",
    "    return compute"
   ]
  },
  {
   "cell_type": "code",
   "execution_count": null,
   "metadata": {},
   "outputs": [],
   "source": [
    "predict_Y = compute(w,b,test_X)\n",
    "predict_Y = np.squeeze( np.asarray(predict_Y) )\n",
    "Y = np.squeeze(np.asarray(test_Y))\n",
    "\n",
    "res=np.zeros(np.size(test_X,0))\n",
    "acc=0\n",
    "for k in range(len(predict_Y)):\n",
    "    if predict_Y[k] == Y[k]:\n",
    "        acc+=1\n",
    "acc=acc/30\n",
    "print(acc*100,\"% is the acc\")"
   ]
  },
  {
   "cell_type": "code",
   "execution_count": null,
   "metadata": {
    "scrolled": true
   },
   "outputs": [],
   "source": [
    "#fig.set_figwidth(16)\n",
    "X = np.squeeze(np.asarray(test_X))\n",
    "X = X[:, :2]  # we only take the first two features.\n",
    "\n",
    "y = np.squeeze(np.asarray(predict_Y))\n",
    "plt.scatter(X[:, 0], X[:, 1], c=y, cmap=plt.cm.coolwarm)\n",
    "plt.xlabel('Sepal length')\n",
    "plt.ylabel('Sepal width')\n",
    "plt.title('Predicted Result')\n",
    "plt.show()"
   ]
  },
  {
   "cell_type": "code",
   "execution_count": null,
   "metadata": {},
   "outputs": [],
   "source": [
    "#fig.set_figwidth(16)\n",
    "X = np.squeeze(np.asarray(test_X))\n",
    "X = X[:, :2]  # we only take the first two features.\n",
    "\n",
    "y = np.squeeze(np.asarray(test_Y))\n",
    "plt.scatter(X[:, 0], X[:, 1], c=y, cmap=plt.cm.coolwarm)\n",
    "plt.xlabel('Sepal length')\n",
    "plt.ylabel('Sepal width')\n",
    "plt.title('Actual Result')\n",
    "plt.show()"
   ]
  },
  {
   "cell_type": "code",
   "execution_count": null,
   "metadata": {},
   "outputs": [],
   "source": []
  },
  {
   "cell_type": "code",
   "execution_count": null,
   "metadata": {},
   "outputs": [],
   "source": []
  }
 ],
 "metadata": {
  "kernelspec": {
   "display_name": "Python 3",
   "language": "python",
   "name": "python3"
  },
  "language_info": {
   "codemirror_mode": {
    "name": "ipython",
    "version": 3
   },
   "file_extension": ".py",
   "mimetype": "text/x-python",
   "name": "python",
   "nbconvert_exporter": "python",
   "pygments_lexer": "ipython3",
   "version": "3.7.3"
  }
 },
 "nbformat": 4,
 "nbformat_minor": 2
}
