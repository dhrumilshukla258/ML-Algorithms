{
 "cells": [
  {
   "cell_type": "code",
   "execution_count": 1,
   "metadata": {},
   "outputs": [],
   "source": [
    "import numpy as np\n",
    "import matplotlib.pyplot as plt\n",
    "import pandas as pd\n",
    "from sklearn.model_selection import train_test_split"
   ]
  },
  {
   "cell_type": "markdown",
   "metadata": {},
   "source": [
    "Defination of Sigmoid"
   ]
  },
  {
   "cell_type": "code",
   "execution_count": 2,
   "metadata": {},
   "outputs": [],
   "source": [
    "def sigmoid(x):\n",
    "    return 1/(1+np.exp(-x))        "
   ]
  },
  {
   "cell_type": "code",
   "execution_count": 3,
   "metadata": {},
   "outputs": [],
   "source": [
    "def logreg(X,Y):\n",
    "    theta = np.random.rand(np.size(X,1))-0.5\n",
    "    print (theta)\n",
    "    learnrate = 0.0015355\n",
    "    maxiter = 100000\n",
    "    for itr in range(0, maxiter):\n",
    "        gradient = np.matmul(np.transpose(X), Y-sigmoid(np.matmul(X,theta)))\n",
    "        theta += learnrate * gradient\n",
    "    return (theta)"
   ]
  },
  {
   "cell_type": "markdown",
   "metadata": {},
   "source": [
    "I have not seperated the number of admits in 50:50 ratio as the dataset is such that number of admits accepted is less than number of admits rejected."
   ]
  },
  {
   "cell_type": "code",
   "execution_count": 4,
   "metadata": {},
   "outputs": [
    {
     "name": "stdout",
     "output_type": "stream",
     "text": [
      "     admit  gre   gpa  rank  Ones\n",
      "0        0  380  3.61     3     1\n",
      "1        1  660  3.67     3     1\n",
      "2        1  800  4.00     1     1\n",
      "3        1  640  3.19     4     1\n",
      "4        0  520  2.93     4     1\n",
      "5        1  760  3.00     2     1\n",
      "6        1  560  2.98     1     1\n",
      "7        0  400  3.08     2     1\n",
      "8        1  540  3.39     3     1\n",
      "9        0  700  3.92     2     1\n",
      "10       0  800  4.00     4     1\n",
      "11       0  440  3.22     1     1\n",
      "12       1  760  4.00     1     1\n",
      "13       0  700  3.08     2     1\n",
      "14       1  700  4.00     1     1\n",
      "15       0  480  3.44     3     1\n",
      "16       0  780  3.87     4     1\n",
      "17       0  360  2.56     3     1\n",
      "18       0  800  3.75     2     1\n",
      "19       1  540  3.81     1     1\n",
      "20       0  500  3.17     3     1\n",
      "21       1  660  3.63     2     1\n",
      "22       0  600  2.82     4     1\n",
      "23       0  680  3.19     4     1\n",
      "24       1  760  3.35     2     1\n",
      "25       1  800  3.66     1     1\n",
      "26       1  620  3.61     1     1\n",
      "27       1  520  3.74     4     1\n",
      "28       1  780  3.22     2     1\n",
      "29       0  520  3.29     1     1\n",
      "..     ...  ...   ...   ...   ...\n",
      "370      1  540  3.77     2     1\n",
      "371      1  680  3.76     3     1\n",
      "372      1  680  2.42     1     1\n",
      "373      1  620  3.37     1     1\n",
      "374      0  560  3.78     2     1\n",
      "375      0  560  3.49     4     1\n",
      "376      0  620  3.63     2     1\n",
      "377      1  800  4.00     2     1\n",
      "378      0  640  3.12     3     1\n",
      "379      0  540  2.70     2     1\n",
      "380      0  700  3.65     2     1\n",
      "381      1  540  3.49     2     1\n",
      "382      0  540  3.51     2     1\n",
      "383      0  660  4.00     1     1\n",
      "384      1  480  2.62     2     1\n",
      "385      0  420  3.02     1     1\n",
      "386      1  740  3.86     2     1\n",
      "387      0  580  3.36     2     1\n",
      "388      0  640  3.17     2     1\n",
      "389      0  640  3.51     2     1\n",
      "390      1  800  3.05     2     1\n",
      "391      1  660  3.88     2     1\n",
      "392      1  600  3.38     3     1\n",
      "393      1  620  3.75     2     1\n",
      "394      1  460  3.99     3     1\n",
      "395      0  620  4.00     2     1\n",
      "396      0  560  3.04     3     1\n",
      "397      0  460  2.63     2     1\n",
      "398      0  700  3.65     2     1\n",
      "399      0  600  3.89     3     1\n",
      "\n",
      "[400 rows x 5 columns]\n"
     ]
    }
   ],
   "source": [
    "data = pd.read_csv(\"Admit.csv\")\n",
    "data['Ones'] = 1\n",
    "print (data)"
   ]
  },
  {
   "cell_type": "code",
   "execution_count": 5,
   "metadata": {},
   "outputs": [
    {
     "data": {
      "image/png": "[encoded data removed]",
      "text/plain": [
       "<Figure size 1224x720 with 4 Axes>"
      ]
     },
     "metadata": {
      "needs_background": "light"
     },
     "output_type": "display_data"
    }
   ],
   "source": [
    "fig, ax_arr = plt.subplots(nrows=2, ncols=2, # let their scales be different\n",
    "                       sharex=False, sharey=False)\n",
    "\n",
    "fig.set_figwidth(17)\n",
    "fig.set_figheight(10)\n",
    "\n",
    "ax_arr[0][0].set_title('GRE')\n",
    "freq_arr, binarr, _ = ax_arr[0][0].hist(data['gre'], facecolor='g', alpha=0.3)\n",
    "ax_arr[0][0].grid()\n",
    "\n",
    "ax_arr[0][1].set_title('GPA')\n",
    "freq_arr, binarr, _ = ax_arr[0][1].hist(data['gpa'], facecolor='r', alpha=0.5)\n",
    "ax_arr[0][1].grid()\n",
    "\n",
    "ax_arr[1][0].set_title('RANK')\n",
    "freq_arr, binarr, _ = ax_arr[1][0].hist(data['rank'], facecolor='r', alpha=0.5)\n",
    "ax_arr[1][0].grid()"
   ]
  },
  {
   "cell_type": "code",
   "execution_count": 6,
   "metadata": {
    "scrolled": true
   },
   "outputs": [
    {
     "name": "stdout",
     "output_type": "stream",
     "text": [
      "[[1.     0.475  0.9025 0.75  ]\n",
      " [1.     0.825  0.9175 0.75  ]\n",
      " [1.     1.     1.     0.25  ]\n",
      " ...\n",
      " [1.     0.575  0.6575 0.5   ]\n",
      " [1.     0.875  0.9125 0.5   ]\n",
      " [1.     0.75   0.9725 0.75  ]]\n",
      "[0. 1. 1. 1. 0. 1. 1. 0. 1. 0. 0. 0. 1. 0. 1. 0. 0. 0. 0. 1. 0. 1. 0. 0.\n",
      " 1. 1. 1. 1. 1. 0. 0. 0. 0. 1. 0. 0. 0. 0. 1. 1. 0. 1. 1. 0. 0. 1. 1. 0.\n",
      " 0. 0. 0. 0. 0. 1. 0. 1. 0. 0. 0. 0. 1. 0. 0. 1. 0. 0. 0. 0. 0. 0. 0. 0.\n",
      " 0. 0. 0. 0. 0. 1. 0. 1. 0. 0. 0. 0. 1. 0. 0. 0. 0. 1. 0. 1. 0. 0. 1. 0.\n",
      " 0. 0. 0. 0. 0. 0. 0. 0. 1. 1. 1. 0. 0. 0. 0. 0. 0. 0. 0. 0. 1. 0. 1. 0.\n",
      " 1. 1. 0. 0. 0. 0. 1. 0. 0. 0. 1. 0. 0. 0. 0. 0. 0. 0. 0. 1. 0. 1. 0. 0.\n",
      " 0. 0. 0. 0. 1. 0. 1. 0. 1. 0. 0. 1. 0. 1. 0. 0. 0. 0. 1. 0. 0. 0. 0. 0.\n",
      " 0. 0. 0. 0. 0. 1. 0. 1. 0. 1. 0. 0. 0. 0. 0. 1. 0. 0. 0. 0. 0. 0. 1. 0.\n",
      " 0. 0. 1. 0. 0. 1. 0. 0. 0. 1. 1. 0. 1. 1. 0. 1. 0. 0. 0. 0. 0. 0. 1. 1.\n",
      " 0. 1. 0. 1. 0. 0. 1. 0. 0. 1. 0. 0. 0. 1. 0. 0. 0. 0. 1. 0. 1. 0. 0. 0.\n",
      " 0. 1. 1. 0. 0. 0. 0. 0. 0. 0. 0. 0. 1. 1. 1. 0. 1. 1. 0. 0. 0. 0. 1. 1.\n",
      " 1. 0. 0. 1. 1. 0. 1. 0. 1. 0. 0. 1. 0. 1. 1. 1. 0. 0. 0. 0. 1. 0. 1. 1.\n",
      " 0. 0. 1. 0. 0. 0. 0. 0. 0. 0. 0. 0. 0. 1. 1. 1. 0. 0. 1. 0. 0. 0. 0. 0.\n",
      " 0. 1. 0. 1. 1. 1. 1. 0. 0. 0. 0. 0. 0. 0. 0. 1. 0. 0. 0. 0. 0. 0. 1. 1.\n",
      " 0. 0. 0. 1. 0. 1. 0. 0. 0. 0. 0. 0. 0. 0. 1. 0. 1. 0. 1. 1. 0. 0. 1. 0.\n",
      " 1. 1. 0. 0. 1. 0. 0. 0. 0. 0. 1. 1. 1. 1. 0. 0. 0. 1. 0. 0. 0. 1. 0. 0.\n",
      " 1. 0. 1. 0. 0. 0. 1. 1. 1. 1. 1. 0. 0. 0. 0. 0.]\n"
     ]
    }
   ],
   "source": [
    "Mat = np.array(data[['admit','Ones','gre','gpa','rank']])\n",
    "XMat = Mat[:,1:np.size(Mat,1)]\n",
    "max = np.max(XMat, axis=0)\n",
    "XMat = XMat/max\n",
    "YMat = Mat[:,0]\n",
    "print (XMat)\n",
    "print (YMat)"
   ]
  },
  {
   "cell_type": "code",
   "execution_count": 7,
   "metadata": {},
   "outputs": [],
   "source": [
    "X_train, X_test, Y_train, Y_test = train_test_split(XMat, YMat, test_size=0.2)\n",
    "#print (X_train)\n",
    "#print (Y_train)\n",
    "#print (X_test)\n",
    "#print (Y_test)"
   ]
  },
  {
   "cell_type": "code",
   "execution_count": 8,
   "metadata": {},
   "outputs": [
    {
     "name": "stdout",
     "output_type": "stream",
     "text": [
      "[-0.04136569 -0.13272474  0.08318897  0.17808821]\n"
     ]
    }
   ],
   "source": [
    "theta = logreg(X_train, Y_train)"
   ]
  },
  {
   "cell_type": "code",
   "execution_count": 9,
   "metadata": {},
   "outputs": [
    {
     "name": "stdout",
     "output_type": "stream",
     "text": [
      "[-3.25264099  2.48401477  2.46149513 -2.52300366]\n"
     ]
    }
   ],
   "source": [
    "print (theta)"
   ]
  },
  {
   "cell_type": "code",
   "execution_count": 10,
   "metadata": {},
   "outputs": [
    {
     "name": "stdout",
     "output_type": "stream",
     "text": [
      "[0. 0. 1. 0. 0. 0. 0. 0. 1. 0. 1. 0. 1. 0. 0. 0. 0. 1. 0. 1. 0. 1. 1. 0.\n",
      " 0. 0. 0. 1. 1. 0. 0. 0. 0. 0. 0. 0. 0. 0. 0. 1. 0. 0. 0. 0. 0. 1. 0. 0.\n",
      " 0. 0. 0. 0. 0. 0. 0. 0. 0. 0. 0. 1. 0. 0. 0. 0. 0. 0. 0. 0. 1. 0. 0. 0.\n",
      " 0. 1. 0. 0. 0. 0. 0. 0.]\n",
      "[0. 0. 0. 0. 1. 1. 0. 1. 0. 0. 0. 0. 1. 1. 0. 0. 0. 1. 0. 1. 0. 0. 1. 0.\n",
      " 0. 1. 0. 0. 0. 0. 1. 0. 0. 1. 0. 0. 0. 0. 1. 1. 0. 0. 1. 0. 0. 0. 1. 0.\n",
      " 0. 0. 0. 1. 0. 0. 1. 0. 1. 1. 1. 1. 0. 0. 0. 1. 1. 0. 1. 0. 0. 0. 0. 1.\n",
      " 1. 1. 0. 0. 0. 1. 0. 0.]\n"
     ]
    }
   ],
   "source": [
    "res = np.round( sigmoid( np.matmul(X_test, theta) ) )\n",
    "print (res)\n",
    "print (Y_test)"
   ]
  },
  {
   "cell_type": "markdown",
   "metadata": {},
   "source": [
    "###### Error Function"
   ]
  },
  {
   "cell_type": "code",
   "execution_count": 11,
   "metadata": {},
   "outputs": [
    {
     "name": "stdout",
     "output_type": "stream",
     "text": [
      "[0. 0. 1. 0. 1. 1. 0. 1. 1. 0. 1. 0. 0. 1. 0. 0. 0. 0. 0. 0. 0. 1. 0. 0.\n",
      " 0. 1. 0. 1. 1. 0. 1. 0. 0. 1. 0. 0. 0. 0. 1. 0. 0. 0. 1. 0. 0. 1. 1. 0.\n",
      " 0. 0. 0. 1. 0. 0. 1. 0. 1. 1. 1. 0. 0. 0. 0. 1. 1. 0. 1. 0. 1. 0. 0. 1.\n",
      " 1. 0. 0. 0. 0. 1. 0. 0.]\n"
     ]
    }
   ],
   "source": [
    "error = (res - Y_test)**2\n",
    "print (error)"
   ]
  },
  {
   "cell_type": "code",
   "execution_count": 12,
   "metadata": {},
   "outputs": [
    {
     "name": "stdout",
     "output_type": "stream",
     "text": [
      "0.6375\n"
     ]
    }
   ],
   "source": [
    "no_of_matches = np.sum( res == Y_test)\n",
    "accuracy = no_of_matches/len(Y_test)\n",
    "#Accuracy Calculation\n",
    "print (accuracy)"
   ]
  },
  {
   "cell_type": "code",
   "execution_count": 13,
   "metadata": {
    "scrolled": true
   },
   "outputs": [],
   "source": [
    "#print (np.where(res>0.5, plt.plot(XMat[res,0], XMat[res,1],'b+'), plt.plot(XMat[res,0], XMat[res,1], 'r+')) )"
   ]
  },
  {
   "cell_type": "code",
   "execution_count": 14,
   "metadata": {},
   "outputs": [
    {
     "data": {
      "image/png": "[encoded data removed]",
      "text/plain": [
       "<Figure size 432x288 with 1 Axes>"
      ]
     },
     "metadata": {
      "needs_background": "light"
     },
     "output_type": "display_data"
    }
   ],
   "source": [
    "res_graph = sigmoid(np.matmul(XMat, theta))\n",
    "for rowind in range(0, len(XMat)):\n",
    "    if res_graph[rowind] > 0.5:\n",
    "        plt.plot(XMat[rowind,0], XMat[rowind,1], 'b+')\n",
    "    else:\n",
    "        plt.plot(XMat[rowind,0], XMat[rowind,1], 'r+')"
   ]
  },
  {
   "cell_type": "code",
   "execution_count": 15,
   "metadata": {},
   "outputs": [
    {
     "data": {
      "text/plain": [
       "array([0.775, 0.475, 0.875, 0.65 , 0.675, 0.75 , 0.625, 0.975, 0.875,\n",
       "       1.   , 1.   , 0.65 , 0.8  , 0.5  , 0.775, 0.725, 0.925, 0.775,\n",
       "       0.6  , 0.85 , 0.675, 0.825, 0.9  , 0.85 , 0.9  , 0.825, 0.625,\n",
       "       0.925, 0.725, 0.675, 0.825, 0.65 , 0.7  , 0.85 , 0.775, 0.925,\n",
       "       0.675, 0.75 , 0.55 , 0.875, 0.425, 1.   , 0.85 , 0.625, 0.45 ,\n",
       "       1.   , 0.55 , 0.65 , 0.65 , 0.375, 0.725, 0.65 , 0.725, 0.525,\n",
       "       0.7  , 0.625, 0.6  , 0.575, 1.   , 0.875, 1.   , 0.625, 0.75 ,\n",
       "       0.8  , 0.7  , 0.775, 0.675, 0.7  , 0.85 , 0.65 , 0.8  , 0.75 ,\n",
       "       0.825, 0.65 , 0.825, 0.675, 0.775, 0.775, 0.55 , 0.625])"
      ]
     },
     "execution_count": 15,
     "metadata": {},
     "output_type": "execute_result"
    }
   ],
   "source": [
    "X_test[:,1]"
   ]
  },
  {
   "cell_type": "code",
   "execution_count": 16,
   "metadata": {},
   "outputs": [],
   "source": [
    "X_test = X_test*max"
   ]
  },
  {
   "cell_type": "code",
   "execution_count": 17,
   "metadata": {},
   "outputs": [
    {
     "data": {
      "text/plain": [
       "Text(0, 0.5, 'ApplicationNumber')"
      ]
     },
     "execution_count": 17,
     "metadata": {},
     "output_type": "execute_result"
    },
    {
     "data": {
      "image/png": "[encoded data removed]",
      "text/plain": [
       "<Figure size 1152x504 with 2 Axes>"
      ]
     },
     "metadata": {
      "needs_background": "light"
     },
     "output_type": "display_data"
    }
   ],
   "source": [
    "fig, arr = plt.subplots(nrows=2, ncols=1, sharex=False, sharey=True)\n",
    "\n",
    "fig.set_figwidth(16)\n",
    "fig.set_figheight(7)\n",
    "\n",
    "arr[0].scatter (np.arange(len(res)),res,c='r' )\n",
    "arr[0].set_title('Predicted Result')\n",
    "arr[0].set_ylabel('ApplicationNumber')\n",
    "\n",
    "arr[1].scatter (np.arange(len(Y_test)),Y_test, c='b' )\n",
    "arr[1].set_title('Actual Result')\n",
    "arr[1].set_xlabel('Result')\n",
    "arr[1].set_ylabel('ApplicationNumber')"
   ]
  },
  {
   "cell_type": "code",
   "execution_count": null,
   "metadata": {},
   "outputs": [],
   "source": []
  },
  {
   "cell_type": "code",
   "execution_count": null,
   "metadata": {},
   "outputs": [],
   "source": []
  }
 ],
 "metadata": {
  "kernelspec": {
   "display_name": "Python 3",
   "language": "python",
   "name": "python3"
  },
  "language_info": {
   "codemirror_mode": {
    "name": "ipython",
    "version": 3
   },
   "file_extension": ".py",
   "mimetype": "text/x-python",
   "name": "python",
   "nbconvert_exporter": "python",
   "pygments_lexer": "ipython3",
   "version": "3.7.1"
  }
 },
 "nbformat": 4,
 "nbformat_minor": 2
}
