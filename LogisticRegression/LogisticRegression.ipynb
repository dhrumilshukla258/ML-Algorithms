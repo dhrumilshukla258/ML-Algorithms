{
 "cells": [
  {
   "cell_type": "code",
   "execution_count": null,
   "metadata": {},
   "outputs": [],
   "source": [
    "import numpy as np\n",
    "import matplotlib.pyplot as plt\n",
    "import pandas as pd\n",
    "from sklearn.model_selection import train_test_split"
   ]
  },
  {
   "cell_type": "markdown",
   "metadata": {},
   "source": [
    "Defination of Sigmoid"
   ]
  },
  {
   "cell_type": "code",
   "execution_count": null,
   "metadata": {},
   "outputs": [],
   "source": [
    "def sigmoid(x):\n",
    "    return 1/(1+np.exp(-x))        "
   ]
  },
  {
   "cell_type": "code",
   "execution_count": null,
   "metadata": {},
   "outputs": [],
   "source": [
    "def logreg(X,Y):\n",
    "    theta = np.random.rand(np.size(X,1))-0.5\n",
    "    print (theta)\n",
    "    learnrate = 0.0015355\n",
    "    maxiter = 100000\n",
    "    for itr in range(0, maxiter):\n",
    "        gradient = np.matmul(np.transpose(X), Y-sigmoid(np.matmul(X,theta)))\n",
    "        theta += learnrate * gradient\n",
    "    return (theta)"
   ]
  },
  {
   "cell_type": "markdown",
   "metadata": {},
   "source": [
    "I have not seperated the number of admits in 50:50 ratio as the dataset is such that number of admits accepted is less than number of admits rejected."
   ]
  },
  {
   "cell_type": "code",
   "execution_count": null,
   "metadata": {},
   "outputs": [],
   "source": [
    "data = pd.read_csv(\"Admit.csv\")\n",
    "data['Ones'] = 1\n",
    "print (data)"
   ]
  },
  {
   "cell_type": "code",
   "execution_count": null,
   "metadata": {},
   "outputs": [],
   "source": [
    "fig, ax_arr = plt.subplots(nrows=2, ncols=2, # let their scales be different\n",
    "                       sharex=False, sharey=False)\n",
    "\n",
    "fig.set_figwidth(17)\n",
    "fig.set_figheight(10)\n",
    "\n",
    "ax_arr[0][0].set_title('GRE')\n",
    "freq_arr, binarr, _ = ax_arr[0][0].hist(data['gre'], facecolor='g', alpha=0.3)\n",
    "ax_arr[0][0].grid()\n",
    "\n",
    "ax_arr[0][1].set_title('GPA')\n",
    "freq_arr, binarr, _ = ax_arr[0][1].hist(data['gpa'], facecolor='r', alpha=0.5)\n",
    "ax_arr[0][1].grid()\n",
    "\n",
    "ax_arr[1][0].set_title('RANK')\n",
    "freq_arr, binarr, _ = ax_arr[1][0].hist(data['rank'], facecolor='r', alpha=0.5)\n",
    "ax_arr[1][0].grid()"
   ]
  },
  {
   "cell_type": "code",
   "execution_count": null,
   "metadata": {
    "scrolled": true
   },
   "outputs": [],
   "source": [
    "Mat = np.array(data[['admit','Ones','gre','gpa','rank']])\n",
    "XMat = Mat[:,1:np.size(Mat,1)]\n",
    "max = np.max(XMat, axis=0)\n",
    "XMat = XMat/max\n",
    "YMat = Mat[:,0]\n",
    "print (XMat)\n",
    "print (YMat)"
   ]
  },
  {
   "cell_type": "code",
   "execution_count": null,
   "metadata": {},
   "outputs": [],
   "source": [
    "X_train, X_test, Y_train, Y_test = train_test_split(XMat, YMat, test_size=0.2)\n",
    "#print (X_train)\n",
    "#print (Y_train)\n",
    "#print (X_test)\n",
    "#print (Y_test)"
   ]
  },
  {
   "cell_type": "code",
   "execution_count": null,
   "metadata": {},
   "outputs": [],
   "source": [
    "theta = logreg(X_train, Y_train)"
   ]
  },
  {
   "cell_type": "code",
   "execution_count": null,
   "metadata": {},
   "outputs": [],
   "source": [
    "print (theta)"
   ]
  },
  {
   "cell_type": "code",
   "execution_count": null,
   "metadata": {},
   "outputs": [],
   "source": [
    "res = np.round( sigmoid( np.matmul(X_test, theta) ) )\n",
    "print (res)\n",
    "print (Y_test)"
   ]
  },
  {
   "cell_type": "markdown",
   "metadata": {},
   "source": [
    "###### Error Function"
   ]
  },
  {
   "cell_type": "code",
   "execution_count": null,
   "metadata": {},
   "outputs": [],
   "source": [
    "error = (res - Y_test)**2\n",
    "print (error)"
   ]
  },
  {
   "cell_type": "code",
   "execution_count": null,
   "metadata": {},
   "outputs": [],
   "source": [
    "no_of_matches = np.sum( res == Y_test)\n",
    "accuracy = no_of_matches/len(Y_test)\n",
    "#Accuracy Calculation\n",
    "print (accuracy)"
   ]
  },
  {
   "cell_type": "code",
   "execution_count": null,
   "metadata": {
    "scrolled": true
   },
   "outputs": [],
   "source": [
    "#print (np.where(res>0.5, plt.plot(XMat[res,0], XMat[res,1],'b+'), plt.plot(XMat[res,0], XMat[res,1], 'r+')) )"
   ]
  },
  {
   "cell_type": "code",
   "execution_count": null,
   "metadata": {},
   "outputs": [],
   "source": [
    "res_graph = sigmoid(np.matmul(XMat, theta))\n",
    "for rowind in range(0, len(XMat)):\n",
    "    if res_graph[rowind] > 0.5:\n",
    "        plt.plot(XMat[rowind,0], XMat[rowind,1], 'b+')\n",
    "    else:\n",
    "        plt.plot(XMat[rowind,0], XMat[rowind,1], 'r+')"
   ]
  },
  {
   "cell_type": "code",
   "execution_count": null,
   "metadata": {},
   "outputs": [],
   "source": [
    "X_test[:,1]"
   ]
  },
  {
   "cell_type": "code",
   "execution_count": null,
   "metadata": {},
   "outputs": [],
   "source": [
    "X_test = X_test*max"
   ]
  },
  {
   "cell_type": "code",
   "execution_count": null,
   "metadata": {},
   "outputs": [],
   "source": [
    "fig, arr = plt.subplots(nrows=2, ncols=1, sharex=False, sharey=True)\n",
    "\n",
    "fig.set_figwidth(16)\n",
    "fig.set_figheight(7)\n",
    "\n",
    "arr[0].scatter (np.arange(len(res)),res,c='r' )\n",
    "arr[0].set_title('Predicted Result')\n",
    "arr[0].set_ylabel('ApplicationNumber')\n",
    "\n",
    "arr[1].scatter (np.arange(len(Y_test)),Y_test, c='b' )\n",
    "arr[1].set_title('Actual Result')\n",
    "arr[1].set_xlabel('Result')\n",
    "arr[1].set_ylabel('ApplicationNumber')"
   ]
  },
  {
   "cell_type": "code",
   "execution_count": null,
   "metadata": {},
   "outputs": [],
   "source": []
  },
  {
   "cell_type": "code",
   "execution_count": null,
   "metadata": {},
   "outputs": [],
   "source": []
  }
 ],
 "metadata": {
  "kernelspec": {
   "display_name": "Python 3",
   "language": "python",
   "name": "python3"
  },
  "language_info": {
   "codemirror_mode": {
    "name": "ipython",
    "version": 3
   },
   "file_extension": ".py",
   "mimetype": "text/x-python",
   "name": "python",
   "nbconvert_exporter": "python",
   "pygments_lexer": "ipython3",
   "version": "3.7.3"
  }
 },
 "nbformat": 4,
 "nbformat_minor": 2
}
