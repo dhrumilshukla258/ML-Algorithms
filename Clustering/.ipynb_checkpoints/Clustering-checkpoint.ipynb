{
 "cells": [
  {
   "cell_type": "code",
   "execution_count": 1,
   "metadata": {},
   "outputs": [],
   "source": [
    "import numpy as np\n",
    "import matplotlib.pyplot as plt\n",
    "import pandas as pd\n",
    "import math as math\n",
    "from collections import OrderedDict, defaultdict"
   ]
  },
  {
   "cell_type": "code",
   "execution_count": 2,
   "metadata": {},
   "outputs": [
    {
     "name": "stderr",
     "output_type": "stream",
     "text": [
      "D:\\Study\\Anaconda3\\lib\\site-packages\\ipykernel_launcher.py:1: ParserWarning: Falling back to the 'python' engine because the 'c' engine does not support regex separators (separators > 1 char and different from '\\s+' are interpreted as regex); you can avoid this warning by specifying engine='python'.\n",
      "  \"\"\"Entry point for launching an IPython kernel.\n"
     ]
    },
    {
     "data": {
      "text/html": [
       "<div>\n",
       "<style scoped>\n",
       "    .dataframe tbody tr th:only-of-type {\n",
       "        vertical-align: middle;\n",
       "    }\n",
       "\n",
       "    .dataframe tbody tr th {\n",
       "        vertical-align: top;\n",
       "    }\n",
       "\n",
       "    .dataframe thead th {\n",
       "        text-align: right;\n",
       "    }\n",
       "</style>\n",
       "<table border=\"1\" class=\"dataframe\">\n",
       "  <thead>\n",
       "    <tr style=\"text-align: right;\">\n",
       "      <th></th>\n",
       "      <th>Index</th>\n",
       "      <th>Eruptions</th>\n",
       "      <th>Waiting</th>\n",
       "    </tr>\n",
       "  </thead>\n",
       "  <tbody>\n",
       "    <tr>\n",
       "      <th>0</th>\n",
       "      <td>1</td>\n",
       "      <td>3.600</td>\n",
       "      <td>79</td>\n",
       "    </tr>\n",
       "    <tr>\n",
       "      <th>1</th>\n",
       "      <td>2</td>\n",
       "      <td>1.800</td>\n",
       "      <td>54</td>\n",
       "    </tr>\n",
       "    <tr>\n",
       "      <th>2</th>\n",
       "      <td>3</td>\n",
       "      <td>3.333</td>\n",
       "      <td>74</td>\n",
       "    </tr>\n",
       "    <tr>\n",
       "      <th>3</th>\n",
       "      <td>4</td>\n",
       "      <td>2.283</td>\n",
       "      <td>62</td>\n",
       "    </tr>\n",
       "    <tr>\n",
       "      <th>4</th>\n",
       "      <td>5</td>\n",
       "      <td>4.533</td>\n",
       "      <td>85</td>\n",
       "    </tr>\n",
       "    <tr>\n",
       "      <th>5</th>\n",
       "      <td>6</td>\n",
       "      <td>2.883</td>\n",
       "      <td>55</td>\n",
       "    </tr>\n",
       "    <tr>\n",
       "      <th>6</th>\n",
       "      <td>7</td>\n",
       "      <td>4.700</td>\n",
       "      <td>88</td>\n",
       "    </tr>\n",
       "    <tr>\n",
       "      <th>7</th>\n",
       "      <td>8</td>\n",
       "      <td>3.600</td>\n",
       "      <td>85</td>\n",
       "    </tr>\n",
       "    <tr>\n",
       "      <th>8</th>\n",
       "      <td>9</td>\n",
       "      <td>1.950</td>\n",
       "      <td>51</td>\n",
       "    </tr>\n",
       "    <tr>\n",
       "      <th>9</th>\n",
       "      <td>10</td>\n",
       "      <td>4.350</td>\n",
       "      <td>85</td>\n",
       "    </tr>\n",
       "    <tr>\n",
       "      <th>10</th>\n",
       "      <td>11</td>\n",
       "      <td>1.833</td>\n",
       "      <td>54</td>\n",
       "    </tr>\n",
       "    <tr>\n",
       "      <th>11</th>\n",
       "      <td>12</td>\n",
       "      <td>3.917</td>\n",
       "      <td>84</td>\n",
       "    </tr>\n",
       "    <tr>\n",
       "      <th>12</th>\n",
       "      <td>13</td>\n",
       "      <td>4.200</td>\n",
       "      <td>78</td>\n",
       "    </tr>\n",
       "    <tr>\n",
       "      <th>13</th>\n",
       "      <td>14</td>\n",
       "      <td>1.750</td>\n",
       "      <td>47</td>\n",
       "    </tr>\n",
       "    <tr>\n",
       "      <th>14</th>\n",
       "      <td>15</td>\n",
       "      <td>4.700</td>\n",
       "      <td>83</td>\n",
       "    </tr>\n",
       "    <tr>\n",
       "      <th>15</th>\n",
       "      <td>16</td>\n",
       "      <td>2.167</td>\n",
       "      <td>52</td>\n",
       "    </tr>\n",
       "    <tr>\n",
       "      <th>16</th>\n",
       "      <td>17</td>\n",
       "      <td>1.750</td>\n",
       "      <td>62</td>\n",
       "    </tr>\n",
       "    <tr>\n",
       "      <th>17</th>\n",
       "      <td>18</td>\n",
       "      <td>4.800</td>\n",
       "      <td>84</td>\n",
       "    </tr>\n",
       "    <tr>\n",
       "      <th>18</th>\n",
       "      <td>19</td>\n",
       "      <td>1.600</td>\n",
       "      <td>52</td>\n",
       "    </tr>\n",
       "    <tr>\n",
       "      <th>19</th>\n",
       "      <td>20</td>\n",
       "      <td>4.250</td>\n",
       "      <td>79</td>\n",
       "    </tr>\n",
       "    <tr>\n",
       "      <th>20</th>\n",
       "      <td>21</td>\n",
       "      <td>1.800</td>\n",
       "      <td>51</td>\n",
       "    </tr>\n",
       "    <tr>\n",
       "      <th>21</th>\n",
       "      <td>22</td>\n",
       "      <td>1.750</td>\n",
       "      <td>47</td>\n",
       "    </tr>\n",
       "    <tr>\n",
       "      <th>22</th>\n",
       "      <td>23</td>\n",
       "      <td>3.450</td>\n",
       "      <td>78</td>\n",
       "    </tr>\n",
       "    <tr>\n",
       "      <th>23</th>\n",
       "      <td>24</td>\n",
       "      <td>3.067</td>\n",
       "      <td>69</td>\n",
       "    </tr>\n",
       "    <tr>\n",
       "      <th>24</th>\n",
       "      <td>25</td>\n",
       "      <td>4.533</td>\n",
       "      <td>74</td>\n",
       "    </tr>\n",
       "    <tr>\n",
       "      <th>25</th>\n",
       "      <td>26</td>\n",
       "      <td>3.600</td>\n",
       "      <td>83</td>\n",
       "    </tr>\n",
       "    <tr>\n",
       "      <th>26</th>\n",
       "      <td>27</td>\n",
       "      <td>1.967</td>\n",
       "      <td>55</td>\n",
       "    </tr>\n",
       "    <tr>\n",
       "      <th>27</th>\n",
       "      <td>28</td>\n",
       "      <td>4.083</td>\n",
       "      <td>76</td>\n",
       "    </tr>\n",
       "    <tr>\n",
       "      <th>28</th>\n",
       "      <td>29</td>\n",
       "      <td>3.850</td>\n",
       "      <td>78</td>\n",
       "    </tr>\n",
       "    <tr>\n",
       "      <th>29</th>\n",
       "      <td>30</td>\n",
       "      <td>4.433</td>\n",
       "      <td>79</td>\n",
       "    </tr>\n",
       "    <tr>\n",
       "      <th>...</th>\n",
       "      <td>...</td>\n",
       "      <td>...</td>\n",
       "      <td>...</td>\n",
       "    </tr>\n",
       "    <tr>\n",
       "      <th>242</th>\n",
       "      <td>243</td>\n",
       "      <td>4.933</td>\n",
       "      <td>86</td>\n",
       "    </tr>\n",
       "    <tr>\n",
       "      <th>243</th>\n",
       "      <td>244</td>\n",
       "      <td>2.900</td>\n",
       "      <td>63</td>\n",
       "    </tr>\n",
       "    <tr>\n",
       "      <th>244</th>\n",
       "      <td>245</td>\n",
       "      <td>4.583</td>\n",
       "      <td>85</td>\n",
       "    </tr>\n",
       "    <tr>\n",
       "      <th>245</th>\n",
       "      <td>246</td>\n",
       "      <td>3.833</td>\n",
       "      <td>82</td>\n",
       "    </tr>\n",
       "    <tr>\n",
       "      <th>246</th>\n",
       "      <td>247</td>\n",
       "      <td>2.083</td>\n",
       "      <td>57</td>\n",
       "    </tr>\n",
       "    <tr>\n",
       "      <th>247</th>\n",
       "      <td>248</td>\n",
       "      <td>4.367</td>\n",
       "      <td>82</td>\n",
       "    </tr>\n",
       "    <tr>\n",
       "      <th>248</th>\n",
       "      <td>249</td>\n",
       "      <td>2.133</td>\n",
       "      <td>67</td>\n",
       "    </tr>\n",
       "    <tr>\n",
       "      <th>249</th>\n",
       "      <td>250</td>\n",
       "      <td>4.350</td>\n",
       "      <td>74</td>\n",
       "    </tr>\n",
       "    <tr>\n",
       "      <th>250</th>\n",
       "      <td>251</td>\n",
       "      <td>2.200</td>\n",
       "      <td>54</td>\n",
       "    </tr>\n",
       "    <tr>\n",
       "      <th>251</th>\n",
       "      <td>252</td>\n",
       "      <td>4.450</td>\n",
       "      <td>83</td>\n",
       "    </tr>\n",
       "    <tr>\n",
       "      <th>252</th>\n",
       "      <td>253</td>\n",
       "      <td>3.567</td>\n",
       "      <td>73</td>\n",
       "    </tr>\n",
       "    <tr>\n",
       "      <th>253</th>\n",
       "      <td>254</td>\n",
       "      <td>4.500</td>\n",
       "      <td>73</td>\n",
       "    </tr>\n",
       "    <tr>\n",
       "      <th>254</th>\n",
       "      <td>255</td>\n",
       "      <td>4.150</td>\n",
       "      <td>88</td>\n",
       "    </tr>\n",
       "    <tr>\n",
       "      <th>255</th>\n",
       "      <td>256</td>\n",
       "      <td>3.817</td>\n",
       "      <td>80</td>\n",
       "    </tr>\n",
       "    <tr>\n",
       "      <th>256</th>\n",
       "      <td>257</td>\n",
       "      <td>3.917</td>\n",
       "      <td>71</td>\n",
       "    </tr>\n",
       "    <tr>\n",
       "      <th>257</th>\n",
       "      <td>258</td>\n",
       "      <td>4.450</td>\n",
       "      <td>83</td>\n",
       "    </tr>\n",
       "    <tr>\n",
       "      <th>258</th>\n",
       "      <td>259</td>\n",
       "      <td>2.000</td>\n",
       "      <td>56</td>\n",
       "    </tr>\n",
       "    <tr>\n",
       "      <th>259</th>\n",
       "      <td>260</td>\n",
       "      <td>4.283</td>\n",
       "      <td>79</td>\n",
       "    </tr>\n",
       "    <tr>\n",
       "      <th>260</th>\n",
       "      <td>261</td>\n",
       "      <td>4.767</td>\n",
       "      <td>78</td>\n",
       "    </tr>\n",
       "    <tr>\n",
       "      <th>261</th>\n",
       "      <td>262</td>\n",
       "      <td>4.533</td>\n",
       "      <td>84</td>\n",
       "    </tr>\n",
       "    <tr>\n",
       "      <th>262</th>\n",
       "      <td>263</td>\n",
       "      <td>1.850</td>\n",
       "      <td>58</td>\n",
       "    </tr>\n",
       "    <tr>\n",
       "      <th>263</th>\n",
       "      <td>264</td>\n",
       "      <td>4.250</td>\n",
       "      <td>83</td>\n",
       "    </tr>\n",
       "    <tr>\n",
       "      <th>264</th>\n",
       "      <td>265</td>\n",
       "      <td>1.983</td>\n",
       "      <td>43</td>\n",
       "    </tr>\n",
       "    <tr>\n",
       "      <th>265</th>\n",
       "      <td>266</td>\n",
       "      <td>2.250</td>\n",
       "      <td>60</td>\n",
       "    </tr>\n",
       "    <tr>\n",
       "      <th>266</th>\n",
       "      <td>267</td>\n",
       "      <td>4.750</td>\n",
       "      <td>75</td>\n",
       "    </tr>\n",
       "    <tr>\n",
       "      <th>267</th>\n",
       "      <td>268</td>\n",
       "      <td>4.117</td>\n",
       "      <td>81</td>\n",
       "    </tr>\n",
       "    <tr>\n",
       "      <th>268</th>\n",
       "      <td>269</td>\n",
       "      <td>2.150</td>\n",
       "      <td>46</td>\n",
       "    </tr>\n",
       "    <tr>\n",
       "      <th>269</th>\n",
       "      <td>270</td>\n",
       "      <td>4.417</td>\n",
       "      <td>90</td>\n",
       "    </tr>\n",
       "    <tr>\n",
       "      <th>270</th>\n",
       "      <td>271</td>\n",
       "      <td>1.817</td>\n",
       "      <td>46</td>\n",
       "    </tr>\n",
       "    <tr>\n",
       "      <th>271</th>\n",
       "      <td>272</td>\n",
       "      <td>4.467</td>\n",
       "      <td>74</td>\n",
       "    </tr>\n",
       "  </tbody>\n",
       "</table>\n",
       "<p>272 rows × 3 columns</p>\n",
       "</div>"
      ],
      "text/plain": [
       "     Index  Eruptions  Waiting\n",
       "0        1      3.600       79\n",
       "1        2      1.800       54\n",
       "2        3      3.333       74\n",
       "3        4      2.283       62\n",
       "4        5      4.533       85\n",
       "5        6      2.883       55\n",
       "6        7      4.700       88\n",
       "7        8      3.600       85\n",
       "8        9      1.950       51\n",
       "9       10      4.350       85\n",
       "10      11      1.833       54\n",
       "11      12      3.917       84\n",
       "12      13      4.200       78\n",
       "13      14      1.750       47\n",
       "14      15      4.700       83\n",
       "15      16      2.167       52\n",
       "16      17      1.750       62\n",
       "17      18      4.800       84\n",
       "18      19      1.600       52\n",
       "19      20      4.250       79\n",
       "20      21      1.800       51\n",
       "21      22      1.750       47\n",
       "22      23      3.450       78\n",
       "23      24      3.067       69\n",
       "24      25      4.533       74\n",
       "25      26      3.600       83\n",
       "26      27      1.967       55\n",
       "27      28      4.083       76\n",
       "28      29      3.850       78\n",
       "29      30      4.433       79\n",
       "..     ...        ...      ...\n",
       "242    243      4.933       86\n",
       "243    244      2.900       63\n",
       "244    245      4.583       85\n",
       "245    246      3.833       82\n",
       "246    247      2.083       57\n",
       "247    248      4.367       82\n",
       "248    249      2.133       67\n",
       "249    250      4.350       74\n",
       "250    251      2.200       54\n",
       "251    252      4.450       83\n",
       "252    253      3.567       73\n",
       "253    254      4.500       73\n",
       "254    255      4.150       88\n",
       "255    256      3.817       80\n",
       "256    257      3.917       71\n",
       "257    258      4.450       83\n",
       "258    259      2.000       56\n",
       "259    260      4.283       79\n",
       "260    261      4.767       78\n",
       "261    262      4.533       84\n",
       "262    263      1.850       58\n",
       "263    264      4.250       83\n",
       "264    265      1.983       43\n",
       "265    266      2.250       60\n",
       "266    267      4.750       75\n",
       "267    268      4.117       81\n",
       "268    269      2.150       46\n",
       "269    270      4.417       90\n",
       "270    271      1.817       46\n",
       "271    272      4.467       74\n",
       "\n",
       "[272 rows x 3 columns]"
      ]
     },
     "execution_count": 2,
     "metadata": {},
     "output_type": "execute_result"
    }
   ],
   "source": [
    "data = pd.read_csv(\"faithful.txt\", sep= \"     \", header=None)\n",
    "\n",
    "data.columns = [\"Index\", \"Eruptions\", \"Waiting\"]\n",
    "\n",
    "data"
   ]
  },
  {
   "cell_type": "code",
   "execution_count": 3,
   "metadata": {},
   "outputs": [
    {
     "data": {
      "text/plain": [
       "<matplotlib.collections.PathCollection at 0x1c8ba874400>"
      ]
     },
     "execution_count": 3,
     "metadata": {},
     "output_type": "execute_result"
    },
    {
     "data": {
      "image/png": "[encoded data removed]",
      "text/plain": [
       "<Figure size 432x288 with 1 Axes>"
      ]
     },
     "metadata": {
      "needs_background": "light"
     },
     "output_type": "display_data"
    }
   ],
   "source": [
    "plt.scatter(data['Eruptions'],data['Waiting'])"
   ]
  },
  {
   "cell_type": "code",
   "execution_count": 4,
   "metadata": {},
   "outputs": [],
   "source": [
    "training_data = data[:250]\n",
    "testing_data = data[250:]\n",
    "\n",
    "train_X = training_data[[\"Eruptions\"]].values\n",
    "train_Y = training_data[[\"Waiting\"]].values\n",
    "\n",
    "test_X = testing_data[[\"Eruptions\"]].values\n",
    "test_Y = testing_data[[\"Waiting\"]].values"
   ]
  },
  {
   "cell_type": "code",
   "execution_count": 5,
   "metadata": {},
   "outputs": [
    {
     "data": {
      "text/plain": [
       "<matplotlib.collections.PathCollection at 0x1c8ba919208>"
      ]
     },
     "execution_count": 5,
     "metadata": {},
     "output_type": "execute_result"
    },
    {
     "data": {
      "image/png": "[encoded data removed]",
      "text/plain": [
       "<Figure size 432x288 with 1 Axes>"
      ]
     },
     "metadata": {
      "needs_background": "light"
     },
     "output_type": "display_data"
    }
   ],
   "source": [
    "plt.scatter(training_data['Eruptions'],training_data['Waiting'])"
   ]
  },
  {
   "cell_type": "code",
   "execution_count": 6,
   "metadata": {},
   "outputs": [
    {
     "data": {
      "text/plain": [
       "<matplotlib.collections.PathCollection at 0x1c8ba977dd8>"
      ]
     },
     "execution_count": 6,
     "metadata": {},
     "output_type": "execute_result"
    },
    {
     "data": {
      "image/png": "[encoded data removed]",
      "text/plain": [
       "<Figure size 432x288 with 1 Axes>"
      ]
     },
     "metadata": {
      "needs_background": "light"
     },
     "output_type": "display_data"
    }
   ],
   "source": [
    "plt.scatter(testing_data['Eruptions'],testing_data['Waiting'])"
   ]
  },
  {
   "cell_type": "code",
   "execution_count": 7,
   "metadata": {},
   "outputs": [],
   "source": [
    "def EM_Train(x,clusterSize = 2):\n",
    "    #By above data visualization we know we need 2 clusters\n",
    "    #Hence k=2\n",
    "    k = clusterSize\n",
    "    n = x.shape[0]\n",
    "    p = x.shape[1]\n",
    "\n",
    "    phi = np.random.rand(k,p)\n",
    "    total = np.sum(phi)\n",
    "    phi = phi/total #sum of all phi value = 1\n",
    "    mu = np.random.rand(k,p)\n",
    "    sigma = np.random.rand(k,p)    \n",
    "    w = np.ndarray(shape=(n,k,p))\n",
    "    preW = np.ndarray(shape=(p))\n",
    "    apple = 0\n",
    "    isConverged = False\n",
    "    \n",
    "    while not isConverged:\n",
    "        if apple >= 1000:\n",
    "            break\n",
    "        apple+=1\n",
    "\n",
    "        #Calculation of Wij\n",
    "        sum_of_all_probability = np.zeros((n,1,p))\n",
    "        probability = np.zeros((n,k,p))\n",
    "        for i in range(n):\n",
    "            for j in range(k):\n",
    "                dij = x[i] - mu[j] \n",
    "                dijSquare = - ( dij.T * dij )\n",
    "                sigSquare = 2 * sigma[j]**2\n",
    "                tempExp = np.exp( dijSquare / sigSquare )\n",
    "                constant = 1 / ( (2*math.pi)**(p/2) * sigma[j] )\n",
    "                probability[i,j] = ( constant * tempExp * phi[j] )\n",
    "                sum_of_all_probability[i] += probability[i,j]\n",
    "\n",
    "        preW = np.copy(w)\n",
    "        for i in range(n):\n",
    "            for j in range(k):\n",
    "                w[i,j] = probability[i,j] / sum_of_all_probability[i]\n",
    "        \n",
    "        if (preW == w).all():\n",
    "            isConverged = True\n",
    "        \n",
    "        #Calculation of mu sigma and phi\n",
    "        for j in range(k):\n",
    "            sum_W_X_MU = 1\n",
    "            sum_W_X = 1\n",
    "            sum_W = 2\n",
    "\n",
    "            #Calculation of mu\n",
    "            for i in range(n):\n",
    "                sum_W_X +=  w[i,j] * x[i]\n",
    "                sum_W += w[i,j]  \n",
    "            mu[j] = sum_W_X / sum_W\n",
    "            \n",
    "            #Calculation of sigma\n",
    "            for i in range(n):\n",
    "                sum_W_X_MU += w[i,j] * (x[i]-mu[j])**2                \n",
    "            sigma[j] = ( sum_W_X_MU / sum_W )**0.5\n",
    "                \n",
    "            #Calculation of phi\n",
    "            phi[j] = sum_W / n\n",
    "            \n",
    "    print (\"Number of Iterations: \",apple)    \n",
    "    return w, mu, sigma, phi"
   ]
  },
  {
   "cell_type": "code",
   "execution_count": 8,
   "metadata": {},
   "outputs": [],
   "source": [
    "def Find_Probability(x, mu, sigma, phi, clusterSize=2):\n",
    "    k = clusterSize\n",
    "    n = x.shape[0]\n",
    "    p = x.shape[1]\n",
    "    w = np.ndarray(shape=(n,k,p))\n",
    "    sum_of_all_probability = np.zeros((n,1,p))\n",
    "    probability = np.zeros((n,k,p))\n",
    "    \n",
    "    for i in range(n):\n",
    "        for j in range(k):\n",
    "            dij = x[i] - mu[j] \n",
    "            dijSquare = - ( dij.T * dij )\n",
    "            sigSquare = 2 * sigma[j]**2\n",
    "            tempExp = np.exp( dijSquare / sigSquare )\n",
    "            constant = 1 / ( (2*math.pi)**(p/2) * sigma[j] )\n",
    "            probability[i,j] = ( constant * tempExp * phi[j] )\n",
    "            sum_of_all_probability[i] += probability[i,j]\n",
    "    \n",
    "    preW = np.copy(w)       \n",
    "    for i in range(n):\n",
    "            for j in range(k):\n",
    "                w[i,j] = probability[i,j] / sum_of_all_probability[i]\n",
    "    return w"
   ]
  },
  {
   "cell_type": "code",
   "execution_count": 9,
   "metadata": {},
   "outputs": [],
   "source": [
    "def Cal_J (w, mu, sigma, phi, x, clusterSize = 2):\n",
    "    k = clusterSize\n",
    "    n = x.shape[0]\n",
    "    p = x.shape[1]\n",
    "    \n",
    "    funJ = np.zeros((n,k))\n",
    "    for i in range(n):\n",
    "        for j in range(k):\n",
    "            const = math.log( 1/ (2* math.pi)**(p/2) )\n",
    "            lnSig = np.log( sigma[j] )\n",
    "            \n",
    "            dijSquare = (x[i] - mu[j])**2\n",
    "            sigSquare = 2 * sigma[j]**2\n",
    "            exp = dijSquare/sigSquare\n",
    "            \n",
    "            lnPhi = np.log( phi[j] )\n",
    "            lnW = np.log ( w[i,j] )\n",
    "            \n",
    "            funJ += w[i,j] * ( const - lnSig - exp + lnPhi - lnW )\n",
    "    \n",
    "    return funJ"
   ]
  },
  {
   "cell_type": "code",
   "execution_count": 10,
   "metadata": {},
   "outputs": [],
   "source": [
    "def CreateDict(w):\n",
    "    dic = defaultdict(list)\n",
    "    i = 0\n",
    "    for c in w:\n",
    "        if c[0] > 0.5:\n",
    "            dic[0].append(i)\n",
    "        if c[1] > 0.5:\n",
    "            dic[1].append(i)\n",
    "        i += 1 \n",
    "    return dic\n",
    "\n",
    "def PlotGraph(data, dic):\n",
    "    for rowind in range(0, len(data)):\n",
    "        temp = data.iloc[[rowind]]\n",
    "        if rowind in dic[0]:\n",
    "            plt.plot(temp[\"Eruptions\"],temp[\"Waiting\"], 'b+')\n",
    "        else:\n",
    "            plt.plot(temp[\"Eruptions\"],temp[\"Waiting\"], 'r+')"
   ]
  },
  {
   "cell_type": "markdown",
   "metadata": {},
   "source": [
    "Classifying the Data into clusters"
   ]
  },
  {
   "cell_type": "code",
   "execution_count": 11,
   "metadata": {},
   "outputs": [
    {
     "name": "stdout",
     "output_type": "stream",
     "text": [
      "Number of Iterations:  69\n"
     ]
    },
    {
     "data": {
      "image/png": "[encoded data removed]",
      "text/plain": [
       "<Figure size 432x288 with 1 Axes>"
      ]
     },
     "metadata": {
      "needs_background": "light"
     },
     "output_type": "display_data"
    }
   ],
   "source": [
    "w, mu, sigma, phi = EM_Train(train_X)\n",
    "J = Cal_J(w, mu, sigma, phi, train_X)\n",
    "trainingCluster = CreateDict(w)\n",
    "PlotGraph(training_data, trainingCluster)"
   ]
  },
  {
   "cell_type": "code",
   "execution_count": 12,
   "metadata": {
    "scrolled": true
   },
   "outputs": [],
   "source": [
    "#Now Dividing Data into Clusters\n",
    "train_clutster_1 = training_data.loc[ training_data[\"Index\"].isin( trainingCluster[0] ) ]\n",
    "train_clutster_2 = training_data.loc[ training_data[\"Index\"].isin( trainingCluster[1] ) ]\n",
    "\n",
    "train_X_clutster_1 = train_clutster_1[[\"Eruptions\"]].values\n",
    "train_Y_clutster_1 = train_clutster_1[[\"Waiting\"]].values\n",
    "\n",
    "train_X_clutster_2 = train_clutster_2[[\"Eruptions\"]].values\n",
    "train_Y_clutster_2 = train_clutster_2[[\"Waiting\"]].values\n",
    "\n",
    "#For Each cluster Finding the theta value\n",
    "#Basically applying linear regression for each cluster\n",
    "def Linear_Train(training_data_X, training_data_Y):\n",
    "    xT = np.transpose(training_data_X)\n",
    "    xTx = np.matmul ( xT, training_data_X )\n",
    "    inverse_xTx = np.linalg.inv ( xTx )\n",
    "    xTy = np.matmul ( xT, training_data_Y )\n",
    "    theta_function =  np.matmul (inverse_xTx, xTy)\n",
    "    return theta_function\n",
    "\n",
    "def Cal_Error(validating_data_X, validating_data_Y, theta_function):\n",
    "    #Now Validation of Data\n",
    "    error_function = ( np.matmul( validating_data_X, theta_function ) - validating_data_Y ) ** 2\n",
    "    mean_square_error = np.sum(error_function)\n",
    "    root_mean_square_error = np.sqrt(mean_square_error) / np.size(error_function)\n",
    "    return root_mean_square_error\n",
    "\n",
    "theta_cluster_1 = Linear_Train(train_X_clutster_1,train_Y_clutster_1)\n",
    "theta_cluster_2 = Linear_Train(train_X_clutster_2,train_Y_clutster_2)"
   ]
  },
  {
   "cell_type": "code",
   "execution_count": 13,
   "metadata": {},
   "outputs": [
    {
     "name": "stdout",
     "output_type": "stream",
     "text": [
      "Root Mean Square Error of Cluster 1 : 0.8947392441108463\n",
      "Root Mean Square Error of Cluster 2 : 1.050438846213876\n"
     ]
    }
   ],
   "source": [
    "rmse_1 = Cal_Error(train_X_clutster_1,train_Y_clutster_1,theta_cluster_1)\n",
    "rmse_2 = Cal_Error(train_X_clutster_2,train_Y_clutster_2,theta_cluster_2)\n",
    "\n",
    "print (\"Root Mean Square Error of Cluster 1 :\",rmse_1)\n",
    "print (\"Root Mean Square Error of Cluster 2 :\",rmse_2)"
   ]
  },
  {
   "cell_type": "code",
   "execution_count": 14,
   "metadata": {},
   "outputs": [
    {
     "data": {
      "image/png": "[encoded data removed]",
      "text/plain": [
       "<Figure size 432x288 with 1 Axes>"
      ]
     },
     "metadata": {
      "needs_background": "light"
     },
     "output_type": "display_data"
    }
   ],
   "source": [
    "predict_w = Find_Probability(test_X, mu, sigma, phi)\n",
    "predictCluster  = CreateDict(predict_w)\n",
    "\n",
    "predict_Y = np.ndarray((test_Y.shape[0], test_Y.shape[1]))\n",
    "\n",
    "for rowind in range(len(test_X)):\n",
    "    temp = test_X[rowind,:]\n",
    "    if rowind in predictCluster[0]:\n",
    "        predict_Y[rowind] = np.matmul(temp, theta_cluster_1)\n",
    "    else:\n",
    "        predict_Y[rowind] = np.matmul(temp, theta_cluster_2)\n",
    "        \n",
    "PlotGraph(testing_data, predictCluster)"
   ]
  },
  {
   "cell_type": "code",
   "execution_count": 15,
   "metadata": {},
   "outputs": [
    {
     "data": {
      "text/plain": [
       "Text(0, 0.5, 'Waiting')"
      ]
     },
     "execution_count": 15,
     "metadata": {},
     "output_type": "execute_result"
    },
    {
     "data": {
      "image/png": "[encoded data removed]",
      "text/plain": [
       "<Figure size 1152x504 with 2 Axes>"
      ]
     },
     "metadata": {
      "needs_background": "light"
     },
     "output_type": "display_data"
    }
   ],
   "source": [
    "fig, arr = plt.subplots(nrows=1, ncols=2, sharex=False, sharey=True)\n",
    "\n",
    "fig.set_figwidth(16)\n",
    "fig.set_figheight(7)\n",
    "\n",
    "arr[0].scatter (test_X[:,0], predict_Y, c='r' )\n",
    "arr[0].set_title('Predicted Result')\n",
    "arr[0].set_xlabel('Eruption')\n",
    "arr[0].set_ylabel('Waiting')\n",
    "\n",
    "arr[1].scatter (test_X[:,0], test_Y, c='b' )\n",
    "arr[1].set_title('Actual Result')\n",
    "arr[1].set_xlabel('Eruption')\n",
    "arr[1].set_ylabel('Waiting')"
   ]
  },
  {
   "cell_type": "code",
   "execution_count": 16,
   "metadata": {},
   "outputs": [
    {
     "data": {
      "text/plain": [
       "Text(0.5, 1.0, 'Actual Result')"
      ]
     },
     "execution_count": 16,
     "metadata": {},
     "output_type": "execute_result"
    },
    {
     "data": {
      "image/png": "[encoded data removed]",
      "text/plain": [
       "<Figure size 1152x288 with 2 Axes>"
      ]
     },
     "metadata": {
      "needs_background": "light"
     },
     "output_type": "display_data"
    }
   ],
   "source": [
    "fig, arr = plt.subplots(nrows=1, ncols=2, sharex=False, sharey=True)\n",
    "\n",
    "fig.set_figwidth(16)\n",
    "fig.set_figheight(4)\n",
    "\n",
    "arr[0].hist(predict_Y)\n",
    "arr[0].set_title('Predicted Result')\n",
    "\n",
    "arr[1].hist(test_Y)\n",
    "arr[1].set_title('Actual Result')"
   ]
  },
  {
   "cell_type": "code",
   "execution_count": null,
   "metadata": {},
   "outputs": [],
   "source": []
  },
  {
   "cell_type": "code",
   "execution_count": null,
   "metadata": {},
   "outputs": [],
   "source": []
  },
  {
   "cell_type": "code",
   "execution_count": null,
   "metadata": {},
   "outputs": [],
   "source": []
  }
 ],
 "metadata": {
  "kernelspec": {
   "display_name": "Python 3",
   "language": "python",
   "name": "python3"
  },
  "language_info": {
   "codemirror_mode": {
    "name": "ipython",
    "version": 3
   },
   "file_extension": ".py",
   "mimetype": "text/x-python",
   "name": "python",
   "nbconvert_exporter": "python",
   "pygments_lexer": "ipython3",
   "version": "3.7.3"
  }
 },
 "nbformat": 4,
 "nbformat_minor": 2
}
