{
 "cells": [
  {
   "cell_type": "code",
   "execution_count": null,
   "metadata": {},
   "outputs": [],
   "source": [
    "import numpy as np\n",
    "import matplotlib.pyplot as plt\n",
    "import pandas as pd\n",
    "import math as math\n",
    "from collections import OrderedDict, defaultdict"
   ]
  },
  {
   "cell_type": "markdown",
   "metadata": {},
   "source": [
    "##### The code below was used for my testing purpose"
   ]
  },
  {
   "cell_type": "raw",
   "metadata": {},
   "source": [
    "train_features_50 = pd.read_csv(\"train-features-50.txt\", sep= \" \", header=None)\n",
    "train_features_100 = pd.read_csv(\"train-features-100.txt\", sep= \" \", header=None)\n",
    "train_features_400 = pd.read_csv(\"train-features-400.txt\", sep= \" \", header=None)\n",
    "\n",
    "train_labels_50 = pd.read_csv(\"train-labels-50.txt\", sep= \" \", header=None)\n",
    "train_labels_100 = pd.read_csv(\"train-labels-100.txt\", sep= \" \", header=None)\n",
    "train_labels_400 = pd.read_csv(\"train-labels-400.txt\", sep= \" \", header=None)\n",
    "\n",
    "# 50 Row Data\n",
    "train_features_50.columns = [\"Msg Number\", \"Word Counter\", \"Number of Occurrences\"]\n",
    "train_labels_50.columns = [\"Spam/NotSpam\"]\n",
    "train_labels_50.insert(0, \"Msg Number\", range(1, 1 + len(train_labels_50)))\n",
    "\n",
    "#100 Row Data\n",
    "train_features_100.columns = [\"Msg Number\", \"Word Counter\", \"Number of Occurrences\"]\n",
    "train_labels_100.columns = [\"Spam/NotSpam\"]\n",
    "train_labels_100.insert(0, \"Msg Number\", range(1, 1 + len(train_labels_100)))\n",
    "\n",
    "#400 Row Data\n",
    "train_features_400.columns = [\"Msg Number\", \"Word Counter\", \"Number of Occurrences\"]\n",
    "train_labels_400.columns = [\"Spam/NotSpam\"]\n",
    "train_labels_400.insert(0, \"Msg Number\", range(1, 1 + len(train_labels_400)))"
   ]
  },
  {
   "cell_type": "code",
   "execution_count": null,
   "metadata": {},
   "outputs": [],
   "source": [
    "train_features = pd.read_csv(\"train-features.txt\", sep= \" \", header=None)\n",
    "train_labels = pd.read_csv(\"train-labels.txt\", sep= \" \", header=None)\n",
    "test_features = pd.read_csv(\"test-features.txt\", sep= \" \", header=None)\n",
    "test_labels = pd.read_csv(\"test-labels.txt\", sep= \" \", header=None)\n",
    "spmsga1 = pd.read_csv(\"spmsga1.txt\", sep= \" \", header=None)"
   ]
  },
  {
   "cell_type": "code",
   "execution_count": null,
   "metadata": {},
   "outputs": [],
   "source": [
    "#Train Data\n",
    "train_features.columns = [\"Msg Number\", \"Word Counter\", \"Number of Occurrences\"]\n",
    "train_labels.columns = [\"Spam/NotSpam\"]\n",
    "\n",
    "#Test Data\n",
    "test_features.columns = [\"Msg Number\", \"Word Counter\", \"Number of Occurrences\"]\n",
    "test_labels.columns = [\"Spam/NotSpam\"]\n",
    "test_labels.insert(0, \"Msg Number\", range(1, 1 + len(test_labels)))"
   ]
  },
  {
   "cell_type": "code",
   "execution_count": null,
   "metadata": {},
   "outputs": [],
   "source": [
    "#print (train_features)\n",
    "#print (train_labels)"
   ]
  },
  {
   "cell_type": "code",
   "execution_count": null,
   "metadata": {
    "scrolled": false
   },
   "outputs": [],
   "source": [
    "spam_length = len( train_labels[ train_labels['Spam/NotSpam'] == 1])\n",
    "ham_length = len( train_labels[ train_labels['Spam/NotSpam'] == 0])\n",
    "\n",
    "test_length_spam = len( test_labels[ test_labels['Spam/NotSpam'] == 1])\n",
    "test_length_ham = len( test_labels[ test_labels['Spam/NotSpam'] == 0])\n",
    "\n",
    "test_PofSpam = (test_length_spam /  test_length_spam + test_length_ham )\n",
    "test_PofHam = (test_length_ham /  test_length_spam + test_length_ham )"
   ]
  },
  {
   "cell_type": "code",
   "execution_count": null,
   "metadata": {
    "scrolled": true
   },
   "outputs": [],
   "source": [
    "spam_dict = defaultdict(int)\n",
    "ham_dict = defaultdict(int)"
   ]
  },
  {
   "cell_type": "markdown",
   "metadata": {},
   "source": [
    "##### Count the number of occurences of word in Spam and Ham"
   ]
  },
  {
   "cell_type": "code",
   "execution_count": null,
   "metadata": {},
   "outputs": [],
   "source": [
    "for index,row in train_features.iterrows():\n",
    "    if train_labels[\"Spam/NotSpam\"].values[row[\"Msg Number\"]-1] == 1:\n",
    "        spam_dict[row[\"Word Counter\"]] += row[\"Number of Occurrences\"]\n",
    "    else:\n",
    "        ham_dict[row[\"Word Counter\"]] += row[\"Number of Occurrences\"]"
   ]
  },
  {
   "cell_type": "markdown",
   "metadata": {},
   "source": [
    "##### Testing weather the msg is Spam or Ham"
   ]
  },
  {
   "cell_type": "code",
   "execution_count": null,
   "metadata": {},
   "outputs": [],
   "source": [
    "result_dict = defaultdict(int)\n",
    "\n",
    "msg_num = -1\n",
    "PofSpam = 0\n",
    "PofHam = 0\n",
    "for index,row in test_features.iterrows():\n",
    "    if (msg_num != row[\"Msg Number\"]):\n",
    "        if PofSpam + math.log(test_PofSpam) > PofHam + math.log(test_PofHam):\n",
    "            result_dict[msg_num] = 1\n",
    "        else:\n",
    "            result_dict[msg_num] = 0\n",
    "        PofSpam = 0\n",
    "        PofHam = 0\n",
    "\n",
    "    #Finding Probability of Spam for Each Word\n",
    "    #Applied Laplase Smoothing to Avoid 0s\n",
    "    #Applied Log to manage the underflow of data\n",
    "    \n",
    "    #spam_dict['word'] returns number of occurences of word in spam\n",
    "    #ham_dic['word'] returns number of occurences of word in ham \n",
    "    PofXInSpam = ( spam_dict[row[\"Word Counter\"]] + 1 ) / (spam_length + 2 )\n",
    "    PofXInHam = ( ham_dict[row[\"Word Counter\"]] + 1 ) / (ham_length + 2 )\n",
    "    \n",
    "    PofSpam += ( math.log( PofXInSpam ) * row[\"Number of Occurrences\"] )\n",
    "    PofHam += ( math.log( PofXInHam ) * row[\"Number of Occurrences\"] )\n",
    "\n",
    "    msg_num = row[\"Msg Number\"]\n",
    "    \n",
    "#For the last Result\n",
    "if PofSpam + math.log(test_PofSpam) > PofHam + math.log(test_PofHam):\n",
    "    result_dict[msg_num] = 1\n",
    "else:\n",
    "    result_dict[msg_num] = 0"
   ]
  },
  {
   "cell_type": "markdown",
   "metadata": {},
   "source": [
    "##### Converting Result Dictionary into Dataframe"
   ]
  },
  {
   "cell_type": "code",
   "execution_count": null,
   "metadata": {},
   "outputs": [],
   "source": [
    "result_dict.pop(-1)\n",
    "predicted_result = pd.DataFrame.from_dict(result_dict, orient=\"index\")\n",
    "predicted_result.columns = [\"Spam/NotSpam\"]\n",
    "predicted_result.insert(0, \"Msg Number\", range(1, 1 + len(predicted_result)))"
   ]
  },
  {
   "cell_type": "markdown",
   "metadata": {},
   "source": [
    "##### Accuracy"
   ]
  },
  {
   "cell_type": "code",
   "execution_count": null,
   "metadata": {},
   "outputs": [],
   "source": [
    "total_matches = np.sum(predicted_result[\"Spam/NotSpam\"].values == test_labels[\"Spam/NotSpam\"].values)\n",
    "accuracy = total_matches/len(predicted_result)\n",
    "accuracy*100"
   ]
  },
  {
   "cell_type": "code",
   "execution_count": null,
   "metadata": {},
   "outputs": [],
   "source": [
    "fig, arr = plt.subplots(nrows=1, ncols=2, sharex=False, sharey=True)\n",
    "\n",
    "fig.set_figwidth(16)\n",
    "fig.set_figheight(50)\n",
    "\n",
    "arr[0].scatter (predicted_result['Spam/NotSpam'],predicted_result['Msg Number'], c='r' )\n",
    "arr[0].set_title('Predicted Result')\n",
    "arr[0].set_xlabel('Spam/NotSpam')\n",
    "arr[0].set_ylabel('Msg Number')\n",
    "\n",
    "arr[1].scatter (test_labels['Spam/NotSpam'],test_labels['Msg Number'], c='b' )\n",
    "arr[1].set_title('Actual Result')\n",
    "arr[1].set_xlabel('Spam/NotSpam')\n",
    "arr[1].set_ylabel('Msg Number')"
   ]
  },
  {
   "cell_type": "code",
   "execution_count": null,
   "metadata": {},
   "outputs": [],
   "source": []
  },
  {
   "cell_type": "code",
   "execution_count": null,
   "metadata": {},
   "outputs": [],
   "source": []
  },
  {
   "cell_type": "code",
   "execution_count": null,
   "metadata": {},
   "outputs": [],
   "source": []
  }
 ],
 "metadata": {
  "kernelspec": {
   "display_name": "Python 3",
   "language": "python",
   "name": "python3"
  },
  "language_info": {
   "codemirror_mode": {
    "name": "ipython",
    "version": 3
   },
   "file_extension": ".py",
   "mimetype": "text/x-python",
   "name": "python",
   "nbconvert_exporter": "python",
   "pygments_lexer": "ipython3",
   "version": "3.7.3"
  }
 },
 "nbformat": 4,
 "nbformat_minor": 2
}
